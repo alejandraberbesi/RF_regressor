{
  "nbformat": 4,
  "nbformat_minor": 0,
  "metadata": {
    "colab": {
      "name": "model.ipynb",
      "provenance": [],
      "authorship_tag": "ABX9TyMU43bTsVJyGBWb5Utope17"
    },
    "kernelspec": {
      "name": "python3",
      "display_name": "Python 3"
    },
    "language_info": {
      "name": "python"
    }
  },
  "cells": [
    {
      "cell_type": "code",
      "metadata": {
        "id": "pxnz1l-NWF1Z"
      },
      "source": [
        "from google.colab import drive\n",
        "import pandas as pd\n",
        "import numpy as np\n",
        "import seaborn as sns\n",
        "import numpy as np\n",
        "from sklearn.model_selection import train_test_split\n",
        "from sklearn.ensemble import RandomForestRegressor\n",
        "from sklearn.preprocessing import LabelEncoder\n",
        "from matplotlib import pyplot as plt"
      ],
      "execution_count": 403,
      "outputs": []
    },
    {
      "cell_type": "markdown",
      "metadata": {
        "id": "dLnUTv_cDJQX"
      },
      "source": [
        "# **Data Extraction**"
      ]
    },
    {
      "cell_type": "code",
      "metadata": {
        "colab": {
          "base_uri": "https://localhost:8080/"
        },
        "id": "UcB084h2Vga8",
        "outputId": "0730bbae-c20e-4151-ae0c-ee9ca02f1024"
      },
      "source": [
        "drive.mount('/content/drive/')"
      ],
      "execution_count": 404,
      "outputs": [
        {
          "output_type": "stream",
          "text": [
            "Drive already mounted at /content/drive/; to attempt to forcibly remount, call drive.mount(\"/content/drive/\", force_remount=True).\n"
          ],
          "name": "stdout"
        }
      ]
    },
    {
      "cell_type": "code",
      "metadata": {
        "colab": {
          "base_uri": "https://localhost:8080/",
          "height": 742
        },
        "id": "4256hAkmi0R8",
        "outputId": "9407772e-7a3e-4444-9a78-2a075f9e7151"
      },
      "source": [
        "df = pd.read_csv('drive/MyDrive/dataset_test.txt', sep=',')\n",
        "print(df.info())\n",
        "df"
      ],
      "execution_count": 405,
      "outputs": [
        {
          "output_type": "stream",
          "text": [
            "<class 'pandas.core.frame.DataFrame'>\n",
            "RangeIndex: 1000 entries, 0 to 999\n",
            "Data columns (total 11 columns):\n",
            " #   Column   Non-Null Count  Dtype  \n",
            "---  ------   --------------  -----  \n",
            " 0   key_1    1000 non-null   object \n",
            " 1   date_2   1000 non-null   object \n",
            " 2   cont_3   1000 non-null   float64\n",
            " 3   cont_4   1000 non-null   float64\n",
            " 4   disc_5   1000 non-null   int64  \n",
            " 5   disc_6   1000 non-null   object \n",
            " 6   cat_7    1000 non-null   object \n",
            " 7   cat_8    1000 non-null   object \n",
            " 8   cont_9   1000 non-null   float64\n",
            " 9   cont_10  1000 non-null   float64\n",
            " 10  label    1000 non-null   object \n",
            "dtypes: float64(4), int64(1), object(6)\n",
            "memory usage: 86.1+ KB\n",
            "None\n"
          ],
          "name": "stdout"
        },
        {
          "output_type": "execute_result",
          "data": {
            "text/html": [
              "<div>\n",
              "<style scoped>\n",
              "    .dataframe tbody tr th:only-of-type {\n",
              "        vertical-align: middle;\n",
              "    }\n",
              "\n",
              "    .dataframe tbody tr th {\n",
              "        vertical-align: top;\n",
              "    }\n",
              "\n",
              "    .dataframe thead th {\n",
              "        text-align: right;\n",
              "    }\n",
              "</style>\n",
              "<table border=\"1\" class=\"dataframe\">\n",
              "  <thead>\n",
              "    <tr style=\"text-align: right;\">\n",
              "      <th></th>\n",
              "      <th>key_1</th>\n",
              "      <th>date_2</th>\n",
              "      <th>cont_3</th>\n",
              "      <th>cont_4</th>\n",
              "      <th>disc_5</th>\n",
              "      <th>disc_6</th>\n",
              "      <th>cat_7</th>\n",
              "      <th>cat_8</th>\n",
              "      <th>cont_9</th>\n",
              "      <th>cont_10</th>\n",
              "      <th>label</th>\n",
              "    </tr>\n",
              "  </thead>\n",
              "  <tbody>\n",
              "    <tr>\n",
              "      <th>0</th>\n",
              "      <td>na</td>\n",
              "      <td>2003-04-06</td>\n",
              "      <td>-0.90</td>\n",
              "      <td>-3.82</td>\n",
              "      <td>1</td>\n",
              "      <td>19</td>\n",
              "      <td>happy</td>\n",
              "      <td>blue</td>\n",
              "      <td>0.37</td>\n",
              "      <td>3.92</td>\n",
              "      <td>2.5</td>\n",
              "    </tr>\n",
              "    <tr>\n",
              "      <th>1</th>\n",
              "      <td>UV7055</td>\n",
              "      <td>2013-08-22</td>\n",
              "      <td>-0.35</td>\n",
              "      <td>2.23</td>\n",
              "      <td>5</td>\n",
              "      <td>13</td>\n",
              "      <td>surprised</td>\n",
              "      <td>green</td>\n",
              "      <td>0.05</td>\n",
              "      <td>0.60</td>\n",
              "      <td>3.19</td>\n",
              "    </tr>\n",
              "    <tr>\n",
              "      <th>2</th>\n",
              "      <td>oM1806</td>\n",
              "      <td>2002-10-10</td>\n",
              "      <td>0.93</td>\n",
              "      <td>-12.12</td>\n",
              "      <td>2</td>\n",
              "      <td>11</td>\n",
              "      <td>happy</td>\n",
              "      <td>green</td>\n",
              "      <td>0.08</td>\n",
              "      <td>0.75</td>\n",
              "      <td>2.33</td>\n",
              "    </tr>\n",
              "    <tr>\n",
              "      <th>3</th>\n",
              "      <td>YJ8175</td>\n",
              "      <td>2015-01-01</td>\n",
              "      <td>1.23</td>\n",
              "      <td>-7.21</td>\n",
              "      <td>1</td>\n",
              "      <td>14</td>\n",
              "      <td>scared</td>\n",
              "      <td>purple</td>\n",
              "      <td>-0.69</td>\n",
              "      <td>-7.24</td>\n",
              "      <td>2.54</td>\n",
              "    </tr>\n",
              "    <tr>\n",
              "      <th>4</th>\n",
              "      <td>VF7543</td>\n",
              "      <td>2014-03-03</td>\n",
              "      <td>-1.87</td>\n",
              "      <td>-9.02</td>\n",
              "      <td>3</td>\n",
              "      <td>9</td>\n",
              "      <td>happy</td>\n",
              "      <td>blue</td>\n",
              "      <td>1.01</td>\n",
              "      <td>11.16</td>\n",
              "      <td>2.1</td>\n",
              "    </tr>\n",
              "    <tr>\n",
              "      <th>...</th>\n",
              "      <td>...</td>\n",
              "      <td>...</td>\n",
              "      <td>...</td>\n",
              "      <td>...</td>\n",
              "      <td>...</td>\n",
              "      <td>...</td>\n",
              "      <td>...</td>\n",
              "      <td>...</td>\n",
              "      <td>...</td>\n",
              "      <td>...</td>\n",
              "      <td>...</td>\n",
              "    </tr>\n",
              "    <tr>\n",
              "      <th>995</th>\n",
              "      <td>SW6268</td>\n",
              "      <td>2001-11-30</td>\n",
              "      <td>-0.42</td>\n",
              "      <td>-18.36</td>\n",
              "      <td>2</td>\n",
              "      <td>16</td>\n",
              "      <td>scared</td>\n",
              "      <td>orange</td>\n",
              "      <td>2.70</td>\n",
              "      <td>23.41</td>\n",
              "      <td>3.49</td>\n",
              "    </tr>\n",
              "    <tr>\n",
              "      <th>996</th>\n",
              "      <td>QR0417</td>\n",
              "      <td>2010-02-04</td>\n",
              "      <td>-1.85</td>\n",
              "      <td>-8.99</td>\n",
              "      <td>1</td>\n",
              "      <td>9</td>\n",
              "      <td>surprised</td>\n",
              "      <td>green</td>\n",
              "      <td>-1.12</td>\n",
              "      <td>-9.16</td>\n",
              "      <td>1.27</td>\n",
              "    </tr>\n",
              "    <tr>\n",
              "      <th>997</th>\n",
              "      <td>UI7021</td>\n",
              "      <td>2009-05-02</td>\n",
              "      <td>-0.96</td>\n",
              "      <td>-19.40</td>\n",
              "      <td>0</td>\n",
              "      <td>0</td>\n",
              "      <td>surprised</td>\n",
              "      <td>blue</td>\n",
              "      <td>-1.71</td>\n",
              "      <td>-16.33</td>\n",
              "      <td>na</td>\n",
              "    </tr>\n",
              "    <tr>\n",
              "      <th>998</th>\n",
              "      <td>QH8767</td>\n",
              "      <td>2001-02-01</td>\n",
              "      <td>-0.77</td>\n",
              "      <td>2.73</td>\n",
              "      <td>3</td>\n",
              "      <td>19</td>\n",
              "      <td>surprised</td>\n",
              "      <td>orange</td>\n",
              "      <td>2.06</td>\n",
              "      <td>21.55</td>\n",
              "      <td>na</td>\n",
              "    </tr>\n",
              "    <tr>\n",
              "      <th>999</th>\n",
              "      <td>jf4540</td>\n",
              "      <td>2011-06-07</td>\n",
              "      <td>1.02</td>\n",
              "      <td>-9.05</td>\n",
              "      <td>5</td>\n",
              "      <td>13</td>\n",
              "      <td>sad</td>\n",
              "      <td>green</td>\n",
              "      <td>-2.16</td>\n",
              "      <td>-19.52</td>\n",
              "      <td>3.39</td>\n",
              "    </tr>\n",
              "  </tbody>\n",
              "</table>\n",
              "<p>1000 rows × 11 columns</p>\n",
              "</div>"
            ],
            "text/plain": [
              "      key_1      date_2  cont_3  cont_4  ...   cat_8 cont_9 cont_10 label\n",
              "0        na  2003-04-06   -0.90   -3.82  ...    blue   0.37    3.92   2.5\n",
              "1    UV7055  2013-08-22   -0.35    2.23  ...   green   0.05    0.60  3.19\n",
              "2    oM1806  2002-10-10    0.93  -12.12  ...   green   0.08    0.75  2.33\n",
              "3    YJ8175  2015-01-01    1.23   -7.21  ...  purple  -0.69   -7.24  2.54\n",
              "4    VF7543  2014-03-03   -1.87   -9.02  ...    blue   1.01   11.16   2.1\n",
              "..      ...         ...     ...     ...  ...     ...    ...     ...   ...\n",
              "995  SW6268  2001-11-30   -0.42  -18.36  ...  orange   2.70   23.41  3.49\n",
              "996  QR0417  2010-02-04   -1.85   -8.99  ...   green  -1.12   -9.16  1.27\n",
              "997  UI7021  2009-05-02   -0.96  -19.40  ...    blue  -1.71  -16.33    na\n",
              "998  QH8767  2001-02-01   -0.77    2.73  ...  orange   2.06   21.55    na\n",
              "999  jf4540  2011-06-07    1.02   -9.05  ...   green  -2.16  -19.52  3.39\n",
              "\n",
              "[1000 rows x 11 columns]"
            ]
          },
          "metadata": {
            "tags": []
          },
          "execution_count": 405
        }
      ]
    },
    {
      "cell_type": "markdown",
      "metadata": {
        "id": "mV6yvJjTDQ8n"
      },
      "source": [
        "# **Data Preparation and Transformation**"
      ]
    },
    {
      "cell_type": "code",
      "metadata": {
        "colab": {
          "base_uri": "https://localhost:8080/"
        },
        "id": "jaIjWh90A_5K",
        "outputId": "afc37b2c-8ca1-4dcb-b74b-d679b82ce0b7"
      },
      "source": [
        "#there are multiple NA values per row\n",
        "df = df.replace('na', np.nan)\n",
        "print(\"number or NA per row:\")\n",
        "print(pd.Series(df.isnull().sum(axis=1)).unique())\n",
        "print(\"\")\n",
        "print(\"Table of NA values\")\n",
        "print(df.isna().sum())"
      ],
      "execution_count": 406,
      "outputs": [
        {
          "output_type": "stream",
          "text": [
            "number or NA per row:\n",
            "[1 0 2 3]\n",
            "\n",
            "Table of NA values\n",
            "key_1      104\n",
            "date_2       0\n",
            "cont_3       0\n",
            "cont_4       0\n",
            "disc_5       0\n",
            "disc_6      92\n",
            "cat_7        0\n",
            "cat_8        0\n",
            "cont_9       0\n",
            "cont_10      0\n",
            "label      103\n",
            "dtype: int64\n"
          ],
          "name": "stdout"
        }
      ]
    },
    {
      "cell_type": "code",
      "metadata": {
        "colab": {
          "base_uri": "https://localhost:8080/"
        },
        "id": "6tlapiJSEMfp",
        "outputId": "e256561a-1f5c-4118-9ee8-f906bd015635"
      },
      "source": [
        "#checking if there are duplicated keys\n",
        "dk=df[df.duplicated(['key_1'])]\n",
        "print(\"number of NA in key_1 is the same that duplicated values--> \"+str(len(dk)+1)) #additional 1 is first NA value in column"
      ],
      "execution_count": 407,
      "outputs": [
        {
          "output_type": "stream",
          "text": [
            "number of NA in key_1 is the same that duplicated values--> 104\n"
          ],
          "name": "stdout"
        }
      ]
    },
    {
      "cell_type": "code",
      "metadata": {
        "id": "uvjxccis2nqV"
      },
      "source": [
        "#deleting NA values in 'label'\n",
        "df.dropna(subset=['label'],inplace=True)"
      ],
      "execution_count": 408,
      "outputs": []
    },
    {
      "cell_type": "code",
      "metadata": {
        "colab": {
          "base_uri": "https://localhost:8080/"
        },
        "id": "2DP9xO7XFE1Z",
        "outputId": "5a5b9b20-7f3f-4907-da25-daa0352c064a"
      },
      "source": [
        "#checking how many na values per row remains (without taking 'key_1' into account)\n",
        "pd.Series(df.iloc[:,3:].isnull().sum(axis=1)).unique()"
      ],
      "execution_count": 409,
      "outputs": [
        {
          "output_type": "execute_result",
          "data": {
            "text/plain": [
              "array([0, 1])"
            ]
          },
          "metadata": {
            "tags": []
          },
          "execution_count": 409
        }
      ]
    },
    {
      "cell_type": "code",
      "metadata": {
        "colab": {
          "base_uri": "https://localhost:8080/",
          "height": 399
        },
        "id": "WPDElILGQmtA",
        "outputId": "198f0f1b-4ee5-4bff-8742-e8e23403afea"
      },
      "source": [
        "df['disc_6']=pd.to_numeric(df['disc_6'])\n",
        "sns.displot(df.disc_6, discrete=True)\n",
        "\n",
        "print(\"mode is \"+ str(int(df['disc_6'].mode())))\n",
        "print(\"mean is \"+ str(int(df['disc_6'].mean())))\n",
        "\n",
        "#imputation was considered but given that there are 92 data points to be altered, the distribution of the variable would be affected"
      ],
      "execution_count": 410,
      "outputs": [
        {
          "output_type": "stream",
          "text": [
            "mode is 16\n",
            "mean is 10\n"
          ],
          "name": "stdout"
        },
        {
          "output_type": "display_data",
          "data": {
            "image/png": "[encoded data removed]",
            "text/plain": [
              "<Figure size 360x360 with 1 Axes>"
            ]
          },
          "metadata": {
            "tags": []
          }
        }
      ]
    },
    {
      "cell_type": "code",
      "metadata": {
        "colab": {
          "base_uri": "https://localhost:8080/",
          "height": 204
        },
        "id": "AdnAwQ-26DLz",
        "outputId": "e8a032fd-6798-4986-d57a-1f5c63c53553"
      },
      "source": [
        "#deleting NA values from 'disc_6'\n",
        "df.dropna(subset=['disc_6'],inplace=True)\n",
        "df=df.reset_index()\n",
        "df.head()"
      ],
      "execution_count": 411,
      "outputs": [
        {
          "output_type": "execute_result",
          "data": {
            "text/html": [
              "<div>\n",
              "<style scoped>\n",
              "    .dataframe tbody tr th:only-of-type {\n",
              "        vertical-align: middle;\n",
              "    }\n",
              "\n",
              "    .dataframe tbody tr th {\n",
              "        vertical-align: top;\n",
              "    }\n",
              "\n",
              "    .dataframe thead th {\n",
              "        text-align: right;\n",
              "    }\n",
              "</style>\n",
              "<table border=\"1\" class=\"dataframe\">\n",
              "  <thead>\n",
              "    <tr style=\"text-align: right;\">\n",
              "      <th></th>\n",
              "      <th>index</th>\n",
              "      <th>key_1</th>\n",
              "      <th>date_2</th>\n",
              "      <th>cont_3</th>\n",
              "      <th>cont_4</th>\n",
              "      <th>disc_5</th>\n",
              "      <th>disc_6</th>\n",
              "      <th>cat_7</th>\n",
              "      <th>cat_8</th>\n",
              "      <th>cont_9</th>\n",
              "      <th>cont_10</th>\n",
              "      <th>label</th>\n",
              "    </tr>\n",
              "  </thead>\n",
              "  <tbody>\n",
              "    <tr>\n",
              "      <th>0</th>\n",
              "      <td>0</td>\n",
              "      <td>NaN</td>\n",
              "      <td>2003-04-06</td>\n",
              "      <td>-0.90</td>\n",
              "      <td>-3.82</td>\n",
              "      <td>1</td>\n",
              "      <td>19.0</td>\n",
              "      <td>happy</td>\n",
              "      <td>blue</td>\n",
              "      <td>0.37</td>\n",
              "      <td>3.92</td>\n",
              "      <td>2.5</td>\n",
              "    </tr>\n",
              "    <tr>\n",
              "      <th>1</th>\n",
              "      <td>1</td>\n",
              "      <td>UV7055</td>\n",
              "      <td>2013-08-22</td>\n",
              "      <td>-0.35</td>\n",
              "      <td>2.23</td>\n",
              "      <td>5</td>\n",
              "      <td>13.0</td>\n",
              "      <td>surprised</td>\n",
              "      <td>green</td>\n",
              "      <td>0.05</td>\n",
              "      <td>0.60</td>\n",
              "      <td>3.19</td>\n",
              "    </tr>\n",
              "    <tr>\n",
              "      <th>2</th>\n",
              "      <td>2</td>\n",
              "      <td>oM1806</td>\n",
              "      <td>2002-10-10</td>\n",
              "      <td>0.93</td>\n",
              "      <td>-12.12</td>\n",
              "      <td>2</td>\n",
              "      <td>11.0</td>\n",
              "      <td>happy</td>\n",
              "      <td>green</td>\n",
              "      <td>0.08</td>\n",
              "      <td>0.75</td>\n",
              "      <td>2.33</td>\n",
              "    </tr>\n",
              "    <tr>\n",
              "      <th>3</th>\n",
              "      <td>3</td>\n",
              "      <td>YJ8175</td>\n",
              "      <td>2015-01-01</td>\n",
              "      <td>1.23</td>\n",
              "      <td>-7.21</td>\n",
              "      <td>1</td>\n",
              "      <td>14.0</td>\n",
              "      <td>scared</td>\n",
              "      <td>purple</td>\n",
              "      <td>-0.69</td>\n",
              "      <td>-7.24</td>\n",
              "      <td>2.54</td>\n",
              "    </tr>\n",
              "    <tr>\n",
              "      <th>4</th>\n",
              "      <td>4</td>\n",
              "      <td>VF7543</td>\n",
              "      <td>2014-03-03</td>\n",
              "      <td>-1.87</td>\n",
              "      <td>-9.02</td>\n",
              "      <td>3</td>\n",
              "      <td>9.0</td>\n",
              "      <td>happy</td>\n",
              "      <td>blue</td>\n",
              "      <td>1.01</td>\n",
              "      <td>11.16</td>\n",
              "      <td>2.1</td>\n",
              "    </tr>\n",
              "  </tbody>\n",
              "</table>\n",
              "</div>"
            ],
            "text/plain": [
              "   index   key_1      date_2  cont_3  ...   cat_8  cont_9  cont_10 label\n",
              "0      0     NaN  2003-04-06   -0.90  ...    blue    0.37     3.92   2.5\n",
              "1      1  UV7055  2013-08-22   -0.35  ...   green    0.05     0.60  3.19\n",
              "2      2  oM1806  2002-10-10    0.93  ...   green    0.08     0.75  2.33\n",
              "3      3  YJ8175  2015-01-01    1.23  ...  purple   -0.69    -7.24  2.54\n",
              "4      4  VF7543  2014-03-03   -1.87  ...    blue    1.01    11.16   2.1\n",
              "\n",
              "[5 rows x 12 columns]"
            ]
          },
          "metadata": {
            "tags": []
          },
          "execution_count": 411
        }
      ]
    },
    {
      "cell_type": "code",
      "metadata": {
        "colab": {
          "base_uri": "https://localhost:8080/"
        },
        "id": "1V5La5l5-76o",
        "outputId": "863bda1a-3a3a-483d-ecf3-26611a141565"
      },
      "source": [
        "#adjusting variables data types\n",
        "df['label']=df['label'].astype('float')\n",
        "df['disc_5']=df['disc_5'].astype('int')\n",
        "df['disc_6'] = df['disc_6'].astype('int')\n",
        "df['date_2']=pd.to_datetime(df['date_2'])\n",
        "df.info()\n",
        "print(\"\\n\")\n",
        "print(df.isna().sum())"
      ],
      "execution_count": 412,
      "outputs": [
        {
          "output_type": "stream",
          "text": [
            "<class 'pandas.core.frame.DataFrame'>\n",
            "RangeIndex: 812 entries, 0 to 811\n",
            "Data columns (total 12 columns):\n",
            " #   Column   Non-Null Count  Dtype         \n",
            "---  ------   --------------  -----         \n",
            " 0   index    812 non-null    int64         \n",
            " 1   key_1    732 non-null    object        \n",
            " 2   date_2   812 non-null    datetime64[ns]\n",
            " 3   cont_3   812 non-null    float64       \n",
            " 4   cont_4   812 non-null    float64       \n",
            " 5   disc_5   812 non-null    int64         \n",
            " 6   disc_6   812 non-null    int64         \n",
            " 7   cat_7    812 non-null    object        \n",
            " 8   cat_8    812 non-null    object        \n",
            " 9   cont_9   812 non-null    float64       \n",
            " 10  cont_10  812 non-null    float64       \n",
            " 11  label    812 non-null    float64       \n",
            "dtypes: datetime64[ns](1), float64(5), int64(3), object(3)\n",
            "memory usage: 76.2+ KB\n",
            "\n",
            "\n",
            "index       0\n",
            "key_1      80\n",
            "date_2      0\n",
            "cont_3      0\n",
            "cont_4      0\n",
            "disc_5      0\n",
            "disc_6      0\n",
            "cat_7       0\n",
            "cat_8       0\n",
            "cont_9      0\n",
            "cont_10     0\n",
            "label       0\n",
            "dtype: int64\n"
          ],
          "name": "stdout"
        }
      ]
    },
    {
      "cell_type": "code",
      "metadata": {
        "colab": {
          "base_uri": "https://localhost:8080/",
          "height": 49
        },
        "id": "QtZka6vXZnSt",
        "outputId": "c0468446-8f2f-420b-ff79-f348083f6e3c"
      },
      "source": [
        "df[df.duplicated()] #there aren't duplicated rows"
      ],
      "execution_count": 413,
      "outputs": [
        {
          "output_type": "execute_result",
          "data": {
            "text/html": [
              "<div>\n",
              "<style scoped>\n",
              "    .dataframe tbody tr th:only-of-type {\n",
              "        vertical-align: middle;\n",
              "    }\n",
              "\n",
              "    .dataframe tbody tr th {\n",
              "        vertical-align: top;\n",
              "    }\n",
              "\n",
              "    .dataframe thead th {\n",
              "        text-align: right;\n",
              "    }\n",
              "</style>\n",
              "<table border=\"1\" class=\"dataframe\">\n",
              "  <thead>\n",
              "    <tr style=\"text-align: right;\">\n",
              "      <th></th>\n",
              "      <th>index</th>\n",
              "      <th>key_1</th>\n",
              "      <th>date_2</th>\n",
              "      <th>cont_3</th>\n",
              "      <th>cont_4</th>\n",
              "      <th>disc_5</th>\n",
              "      <th>disc_6</th>\n",
              "      <th>cat_7</th>\n",
              "      <th>cat_8</th>\n",
              "      <th>cont_9</th>\n",
              "      <th>cont_10</th>\n",
              "      <th>label</th>\n",
              "    </tr>\n",
              "  </thead>\n",
              "  <tbody>\n",
              "  </tbody>\n",
              "</table>\n",
              "</div>"
            ],
            "text/plain": [
              "Empty DataFrame\n",
              "Columns: [index, key_1, date_2, cont_3, cont_4, disc_5, disc_6, cat_7, cat_8, cont_9, cont_10, label]\n",
              "Index: []"
            ]
          },
          "metadata": {
            "tags": []
          },
          "execution_count": 413
        }
      ]
    },
    {
      "cell_type": "code",
      "metadata": {
        "colab": {
          "base_uri": "https://localhost:8080/",
          "height": 730
        },
        "id": "KvCSSVoJXK6X",
        "outputId": "2c7fc7ab-6f0d-41a1-feb2-fe35bf07e738"
      },
      "source": [
        "#to check if there are unusual categories in the categorical variables\n",
        "sns.displot(df.cat_8, discrete=True)\n",
        "sns.displot(df.cat_7, discrete=True)"
      ],
      "execution_count": 414,
      "outputs": [
        {
          "output_type": "execute_result",
          "data": {
            "text/plain": [
              "<seaborn.axisgrid.FacetGrid at 0x7f96d380ce10>"
            ]
          },
          "metadata": {
            "tags": []
          },
          "execution_count": 414
        },
        {
          "output_type": "display_data",
          "data": {
            "image/png": "[encoded data removed]",
            "text/plain": [
              "<Figure size 360x360 with 1 Axes>"
            ]
          },
          "metadata": {
            "tags": []
          }
        },
        {
          "output_type": "display_data",
          "data": {
            "image/png": "[encoded data removed]",
            "text/plain": [
              "<Figure size 360x360 with 1 Axes>"
            ]
          },
          "metadata": {
            "tags": []
          }
        }
      ]
    },
    {
      "cell_type": "code",
      "metadata": {
        "colab": {
          "base_uri": "https://localhost:8080/",
          "height": 1000
        },
        "id": "GaEqwpBGY8kp",
        "outputId": "8382cfdd-90ab-4fa0-9888-f5e396824f55"
      },
      "source": [
        "#to see which numerical variables have outliers\n",
        "sns.set(rc={'figure.figsize':(18,20)})\n",
        "sns.boxplot(data=df.iloc[:,3:12])"
      ],
      "execution_count": 415,
      "outputs": [
        {
          "output_type": "execute_result",
          "data": {
            "text/plain": [
              "<matplotlib.axes._subplots.AxesSubplot at 0x7f96d3677f50>"
            ]
          },
          "metadata": {
            "tags": []
          },
          "execution_count": 415
        },
        {
          "output_type": "display_data",
          "data": {
            "image/png": "[encoded data removed]",
            "text/plain": [
              "<Figure size 1296x1440 with 1 Axes>"
            ]
          },
          "metadata": {
            "tags": []
          }
        }
      ]
    },
    {
      "cell_type": "code",
      "metadata": {
        "colab": {
          "base_uri": "https://localhost:8080/",
          "height": 640
        },
        "id": "pE2YbkOShbqH",
        "outputId": "c7456f4b-52d1-4ebe-dd53-3256828bf4dc"
      },
      "source": [
        "#encoding categorical variables\n",
        "\n",
        "lb1 = LabelEncoder()\n",
        "df[\"cat_7_enc\"] = lb1.fit_transform(df[\"cat_7\"])\n",
        "print(df[['cat_7','cat_7_enc']].drop_duplicates())\n",
        "\n",
        "df['cat_7']=df['cat_7_enc']\n",
        "print(\"\")\n",
        "\n",
        "lb2 = LabelEncoder()\n",
        "df[\"cat_8_enc\"] = lb2.fit_transform(df[\"cat_8\"])\n",
        "print(df[['cat_8','cat_8_enc']].drop_duplicates())\n",
        "\n",
        "df['cat_8']=df['cat_8_enc']\n",
        "\n",
        "df=df.iloc[:,0:12]\n",
        "df"
      ],
      "execution_count": 416,
      "outputs": [
        {
          "output_type": "stream",
          "text": [
            "        cat_7  cat_7_enc\n",
            "0       happy          0\n",
            "1   surprised          3\n",
            "3      scared          2\n",
            "15        sad          1\n",
            "\n",
            "     cat_8  cat_8_enc\n",
            "0     blue          0\n",
            "1    green          1\n",
            "3   purple          3\n",
            "10  orange          2\n",
            "12  yellow          5\n",
            "19     red          4\n"
          ],
          "name": "stdout"
        },
        {
          "output_type": "execute_result",
          "data": {
            "text/html": [
              "<div>\n",
              "<style scoped>\n",
              "    .dataframe tbody tr th:only-of-type {\n",
              "        vertical-align: middle;\n",
              "    }\n",
              "\n",
              "    .dataframe tbody tr th {\n",
              "        vertical-align: top;\n",
              "    }\n",
              "\n",
              "    .dataframe thead th {\n",
              "        text-align: right;\n",
              "    }\n",
              "</style>\n",
              "<table border=\"1\" class=\"dataframe\">\n",
              "  <thead>\n",
              "    <tr style=\"text-align: right;\">\n",
              "      <th></th>\n",
              "      <th>index</th>\n",
              "      <th>key_1</th>\n",
              "      <th>date_2</th>\n",
              "      <th>cont_3</th>\n",
              "      <th>cont_4</th>\n",
              "      <th>disc_5</th>\n",
              "      <th>disc_6</th>\n",
              "      <th>cat_7</th>\n",
              "      <th>cat_8</th>\n",
              "      <th>cont_9</th>\n",
              "      <th>cont_10</th>\n",
              "      <th>label</th>\n",
              "    </tr>\n",
              "  </thead>\n",
              "  <tbody>\n",
              "    <tr>\n",
              "      <th>0</th>\n",
              "      <td>0</td>\n",
              "      <td>NaN</td>\n",
              "      <td>2003-04-06</td>\n",
              "      <td>-0.90</td>\n",
              "      <td>-3.82</td>\n",
              "      <td>1</td>\n",
              "      <td>19</td>\n",
              "      <td>0</td>\n",
              "      <td>0</td>\n",
              "      <td>0.37</td>\n",
              "      <td>3.92</td>\n",
              "      <td>2.50</td>\n",
              "    </tr>\n",
              "    <tr>\n",
              "      <th>1</th>\n",
              "      <td>1</td>\n",
              "      <td>UV7055</td>\n",
              "      <td>2013-08-22</td>\n",
              "      <td>-0.35</td>\n",
              "      <td>2.23</td>\n",
              "      <td>5</td>\n",
              "      <td>13</td>\n",
              "      <td>3</td>\n",
              "      <td>1</td>\n",
              "      <td>0.05</td>\n",
              "      <td>0.60</td>\n",
              "      <td>3.19</td>\n",
              "    </tr>\n",
              "    <tr>\n",
              "      <th>2</th>\n",
              "      <td>2</td>\n",
              "      <td>oM1806</td>\n",
              "      <td>2002-10-10</td>\n",
              "      <td>0.93</td>\n",
              "      <td>-12.12</td>\n",
              "      <td>2</td>\n",
              "      <td>11</td>\n",
              "      <td>0</td>\n",
              "      <td>1</td>\n",
              "      <td>0.08</td>\n",
              "      <td>0.75</td>\n",
              "      <td>2.33</td>\n",
              "    </tr>\n",
              "    <tr>\n",
              "      <th>3</th>\n",
              "      <td>3</td>\n",
              "      <td>YJ8175</td>\n",
              "      <td>2015-01-01</td>\n",
              "      <td>1.23</td>\n",
              "      <td>-7.21</td>\n",
              "      <td>1</td>\n",
              "      <td>14</td>\n",
              "      <td>2</td>\n",
              "      <td>3</td>\n",
              "      <td>-0.69</td>\n",
              "      <td>-7.24</td>\n",
              "      <td>2.54</td>\n",
              "    </tr>\n",
              "    <tr>\n",
              "      <th>4</th>\n",
              "      <td>4</td>\n",
              "      <td>VF7543</td>\n",
              "      <td>2014-03-03</td>\n",
              "      <td>-1.87</td>\n",
              "      <td>-9.02</td>\n",
              "      <td>3</td>\n",
              "      <td>9</td>\n",
              "      <td>0</td>\n",
              "      <td>0</td>\n",
              "      <td>1.01</td>\n",
              "      <td>11.16</td>\n",
              "      <td>2.10</td>\n",
              "    </tr>\n",
              "    <tr>\n",
              "      <th>...</th>\n",
              "      <td>...</td>\n",
              "      <td>...</td>\n",
              "      <td>...</td>\n",
              "      <td>...</td>\n",
              "      <td>...</td>\n",
              "      <td>...</td>\n",
              "      <td>...</td>\n",
              "      <td>...</td>\n",
              "      <td>...</td>\n",
              "      <td>...</td>\n",
              "      <td>...</td>\n",
              "      <td>...</td>\n",
              "    </tr>\n",
              "    <tr>\n",
              "      <th>807</th>\n",
              "      <td>993</td>\n",
              "      <td>sx2025</td>\n",
              "      <td>2002-01-15</td>\n",
              "      <td>-0.18</td>\n",
              "      <td>-13.91</td>\n",
              "      <td>3</td>\n",
              "      <td>2</td>\n",
              "      <td>3</td>\n",
              "      <td>1</td>\n",
              "      <td>-0.55</td>\n",
              "      <td>-6.22</td>\n",
              "      <td>1.72</td>\n",
              "    </tr>\n",
              "    <tr>\n",
              "      <th>808</th>\n",
              "      <td>994</td>\n",
              "      <td>mv6453</td>\n",
              "      <td>2002-02-03</td>\n",
              "      <td>-0.05</td>\n",
              "      <td>-1.84</td>\n",
              "      <td>2</td>\n",
              "      <td>7</td>\n",
              "      <td>0</td>\n",
              "      <td>1</td>\n",
              "      <td>2.28</td>\n",
              "      <td>19.93</td>\n",
              "      <td>3.38</td>\n",
              "    </tr>\n",
              "    <tr>\n",
              "      <th>809</th>\n",
              "      <td>995</td>\n",
              "      <td>SW6268</td>\n",
              "      <td>2001-11-30</td>\n",
              "      <td>-0.42</td>\n",
              "      <td>-18.36</td>\n",
              "      <td>2</td>\n",
              "      <td>16</td>\n",
              "      <td>2</td>\n",
              "      <td>2</td>\n",
              "      <td>2.70</td>\n",
              "      <td>23.41</td>\n",
              "      <td>3.49</td>\n",
              "    </tr>\n",
              "    <tr>\n",
              "      <th>810</th>\n",
              "      <td>996</td>\n",
              "      <td>QR0417</td>\n",
              "      <td>2010-02-04</td>\n",
              "      <td>-1.85</td>\n",
              "      <td>-8.99</td>\n",
              "      <td>1</td>\n",
              "      <td>9</td>\n",
              "      <td>3</td>\n",
              "      <td>1</td>\n",
              "      <td>-1.12</td>\n",
              "      <td>-9.16</td>\n",
              "      <td>1.27</td>\n",
              "    </tr>\n",
              "    <tr>\n",
              "      <th>811</th>\n",
              "      <td>999</td>\n",
              "      <td>jf4540</td>\n",
              "      <td>2011-06-07</td>\n",
              "      <td>1.02</td>\n",
              "      <td>-9.05</td>\n",
              "      <td>5</td>\n",
              "      <td>13</td>\n",
              "      <td>1</td>\n",
              "      <td>1</td>\n",
              "      <td>-2.16</td>\n",
              "      <td>-19.52</td>\n",
              "      <td>3.39</td>\n",
              "    </tr>\n",
              "  </tbody>\n",
              "</table>\n",
              "<p>812 rows × 12 columns</p>\n",
              "</div>"
            ],
            "text/plain": [
              "     index   key_1     date_2  cont_3  ...  cat_8  cont_9  cont_10  label\n",
              "0        0     NaN 2003-04-06   -0.90  ...      0    0.37     3.92   2.50\n",
              "1        1  UV7055 2013-08-22   -0.35  ...      1    0.05     0.60   3.19\n",
              "2        2  oM1806 2002-10-10    0.93  ...      1    0.08     0.75   2.33\n",
              "3        3  YJ8175 2015-01-01    1.23  ...      3   -0.69    -7.24   2.54\n",
              "4        4  VF7543 2014-03-03   -1.87  ...      0    1.01    11.16   2.10\n",
              "..     ...     ...        ...     ...  ...    ...     ...      ...    ...\n",
              "807    993  sx2025 2002-01-15   -0.18  ...      1   -0.55    -6.22   1.72\n",
              "808    994  mv6453 2002-02-03   -0.05  ...      1    2.28    19.93   3.38\n",
              "809    995  SW6268 2001-11-30   -0.42  ...      2    2.70    23.41   3.49\n",
              "810    996  QR0417 2010-02-04   -1.85  ...      1   -1.12    -9.16   1.27\n",
              "811    999  jf4540 2011-06-07    1.02  ...      1   -2.16   -19.52   3.39\n",
              "\n",
              "[812 rows x 12 columns]"
            ]
          },
          "metadata": {
            "tags": []
          },
          "execution_count": 416
        }
      ]
    },
    {
      "cell_type": "code",
      "metadata": {
        "colab": {
          "base_uri": "https://localhost:8080/"
        },
        "id": "AFvmOwRkYlxZ",
        "outputId": "7318fd77-0880-46fa-e719-d8c7175156fb"
      },
      "source": [
        "def f_outliers(variable):\n",
        "  q1 = variable.quantile(0.25)\n",
        "  q3 = variable.quantile(0.75)\n",
        "  iqr = q3 - q1    \n",
        "  filter = (variable >= q1 - 1.5 * iqr) & (variable <= q3 + 1.5 *iqr)\n",
        "  return filter\n",
        "\n",
        "df=df.loc[f_outliers(df['cont_3'])]\n",
        "df=df.loc[f_outliers(df['cont_4'])]\n",
        "df=df.loc[f_outliers(df['label'])]\n",
        "\n",
        "print(\"after the cleaning process there are {} rows left in the total dataset\".format(len(df)))"
      ],
      "execution_count": 417,
      "outputs": [
        {
          "output_type": "stream",
          "text": [
            "after the cleaning process there are 789 rows left in the total dataset\n"
          ],
          "name": "stdout"
        }
      ]
    },
    {
      "cell_type": "code",
      "metadata": {
        "colab": {
          "base_uri": "https://localhost:8080/",
          "height": 250
        },
        "id": "yyyBYlZdarSX",
        "outputId": "6719de95-4abe-4065-c67e-701cce6ba624"
      },
      "source": [
        "#eliminate correlated variables\n",
        "corr = df.corr()\n",
        "corr.style.background_gradient(cmap='coolwarm')"
      ],
      "execution_count": 418,
      "outputs": [
        {
          "output_type": "execute_result",
          "data": {
            "text/html": [
              "<style  type=\"text/css\" >\n",
              "#T_1fecf12c_93ff_11eb_b994_0242ac1c0002row0_col0,#T_1fecf12c_93ff_11eb_b994_0242ac1c0002row1_col1,#T_1fecf12c_93ff_11eb_b994_0242ac1c0002row2_col2,#T_1fecf12c_93ff_11eb_b994_0242ac1c0002row3_col3,#T_1fecf12c_93ff_11eb_b994_0242ac1c0002row4_col4,#T_1fecf12c_93ff_11eb_b994_0242ac1c0002row5_col5,#T_1fecf12c_93ff_11eb_b994_0242ac1c0002row6_col6,#T_1fecf12c_93ff_11eb_b994_0242ac1c0002row7_col7,#T_1fecf12c_93ff_11eb_b994_0242ac1c0002row8_col8,#T_1fecf12c_93ff_11eb_b994_0242ac1c0002row9_col9{\n",
              "            background-color:  #b40426;\n",
              "            color:  #f1f1f1;\n",
              "        }#T_1fecf12c_93ff_11eb_b994_0242ac1c0002row0_col1,#T_1fecf12c_93ff_11eb_b994_0242ac1c0002row6_col2,#T_1fecf12c_93ff_11eb_b994_0242ac1c0002row6_col3{\n",
              "            background-color:  #4e68d8;\n",
              "            color:  #000000;\n",
              "        }#T_1fecf12c_93ff_11eb_b994_0242ac1c0002row0_col2,#T_1fecf12c_93ff_11eb_b994_0242ac1c0002row5_col1{\n",
              "            background-color:  #4c66d6;\n",
              "            color:  #000000;\n",
              "        }#T_1fecf12c_93ff_11eb_b994_0242ac1c0002row0_col3,#T_1fecf12c_93ff_11eb_b994_0242ac1c0002row2_col4,#T_1fecf12c_93ff_11eb_b994_0242ac1c0002row6_col5{\n",
              "            background-color:  #4b64d5;\n",
              "            color:  #f1f1f1;\n",
              "        }#T_1fecf12c_93ff_11eb_b994_0242ac1c0002row0_col4,#T_1fecf12c_93ff_11eb_b994_0242ac1c0002row4_col1,#T_1fecf12c_93ff_11eb_b994_0242ac1c0002row8_col1{\n",
              "            background-color:  #4055c8;\n",
              "            color:  #f1f1f1;\n",
              "        }#T_1fecf12c_93ff_11eb_b994_0242ac1c0002row0_col5{\n",
              "            background-color:  #5d7ce6;\n",
              "            color:  #000000;\n",
              "        }#T_1fecf12c_93ff_11eb_b994_0242ac1c0002row0_col6,#T_1fecf12c_93ff_11eb_b994_0242ac1c0002row0_col7,#T_1fecf12c_93ff_11eb_b994_0242ac1c0002row4_col7,#T_1fecf12c_93ff_11eb_b994_0242ac1c0002row6_col4,#T_1fecf12c_93ff_11eb_b994_0242ac1c0002row7_col6{\n",
              "            background-color:  #465ecf;\n",
              "            color:  #f1f1f1;\n",
              "        }#T_1fecf12c_93ff_11eb_b994_0242ac1c0002row0_col8,#T_1fecf12c_93ff_11eb_b994_0242ac1c0002row3_col1{\n",
              "            background-color:  #485fd1;\n",
              "            color:  #f1f1f1;\n",
              "        }#T_1fecf12c_93ff_11eb_b994_0242ac1c0002row0_col9,#T_1fecf12c_93ff_11eb_b994_0242ac1c0002row1_col6,#T_1fecf12c_93ff_11eb_b994_0242ac1c0002row2_col1,#T_1fecf12c_93ff_11eb_b994_0242ac1c0002row2_col7,#T_1fecf12c_93ff_11eb_b994_0242ac1c0002row2_col8,#T_1fecf12c_93ff_11eb_b994_0242ac1c0002row3_col5,#T_1fecf12c_93ff_11eb_b994_0242ac1c0002row5_col3,#T_1fecf12c_93ff_11eb_b994_0242ac1c0002row6_col1,#T_1fecf12c_93ff_11eb_b994_0242ac1c0002row7_col0,#T_1fecf12c_93ff_11eb_b994_0242ac1c0002row7_col2,#T_1fecf12c_93ff_11eb_b994_0242ac1c0002row7_col4,#T_1fecf12c_93ff_11eb_b994_0242ac1c0002row8_col0,#T_1fecf12c_93ff_11eb_b994_0242ac1c0002row8_col2,#T_1fecf12c_93ff_11eb_b994_0242ac1c0002row8_col4{\n",
              "            background-color:  #3b4cc0;\n",
              "            color:  #f1f1f1;\n",
              "        }#T_1fecf12c_93ff_11eb_b994_0242ac1c0002row1_col0,#T_1fecf12c_93ff_11eb_b994_0242ac1c0002row1_col7,#T_1fecf12c_93ff_11eb_b994_0242ac1c0002row5_col0{\n",
              "            background-color:  #506bda;\n",
              "            color:  #000000;\n",
              "        }#T_1fecf12c_93ff_11eb_b994_0242ac1c0002row1_col2,#T_1fecf12c_93ff_11eb_b994_0242ac1c0002row6_col0,#T_1fecf12c_93ff_11eb_b994_0242ac1c0002row8_col6{\n",
              "            background-color:  #4961d2;\n",
              "            color:  #f1f1f1;\n",
              "        }#T_1fecf12c_93ff_11eb_b994_0242ac1c0002row1_col3,#T_1fecf12c_93ff_11eb_b994_0242ac1c0002row4_col2,#T_1fecf12c_93ff_11eb_b994_0242ac1c0002row5_col2{\n",
              "            background-color:  #5673e0;\n",
              "            color:  #000000;\n",
              "        }#T_1fecf12c_93ff_11eb_b994_0242ac1c0002row1_col4,#T_1fecf12c_93ff_11eb_b994_0242ac1c0002row3_col7,#T_1fecf12c_93ff_11eb_b994_0242ac1c0002row4_col6,#T_1fecf12c_93ff_11eb_b994_0242ac1c0002row7_col3{\n",
              "            background-color:  #4358cb;\n",
              "            color:  #f1f1f1;\n",
              "        }#T_1fecf12c_93ff_11eb_b994_0242ac1c0002row1_col5,#T_1fecf12c_93ff_11eb_b994_0242ac1c0002row4_col5{\n",
              "            background-color:  #5a78e4;\n",
              "            color:  #000000;\n",
              "        }#T_1fecf12c_93ff_11eb_b994_0242ac1c0002row1_col8,#T_1fecf12c_93ff_11eb_b994_0242ac1c0002row5_col4{\n",
              "            background-color:  #4f69d9;\n",
              "            color:  #000000;\n",
              "        }#T_1fecf12c_93ff_11eb_b994_0242ac1c0002row1_col9{\n",
              "            background-color:  #b9d0f9;\n",
              "            color:  #000000;\n",
              "        }#T_1fecf12c_93ff_11eb_b994_0242ac1c0002row2_col0,#T_1fecf12c_93ff_11eb_b994_0242ac1c0002row3_col0,#T_1fecf12c_93ff_11eb_b994_0242ac1c0002row3_col6,#T_1fecf12c_93ff_11eb_b994_0242ac1c0002row4_col0{\n",
              "            background-color:  #3f53c6;\n",
              "            color:  #f1f1f1;\n",
              "        }#T_1fecf12c_93ff_11eb_b994_0242ac1c0002row2_col3,#T_1fecf12c_93ff_11eb_b994_0242ac1c0002row3_col2{\n",
              "            background-color:  #3c4ec2;\n",
              "            color:  #f1f1f1;\n",
              "        }#T_1fecf12c_93ff_11eb_b994_0242ac1c0002row2_col5,#T_1fecf12c_93ff_11eb_b994_0242ac1c0002row6_col7,#T_1fecf12c_93ff_11eb_b994_0242ac1c0002row9_col5{\n",
              "            background-color:  #5572df;\n",
              "            color:  #000000;\n",
              "        }#T_1fecf12c_93ff_11eb_b994_0242ac1c0002row2_col6,#T_1fecf12c_93ff_11eb_b994_0242ac1c0002row3_col4,#T_1fecf12c_93ff_11eb_b994_0242ac1c0002row6_col9{\n",
              "            background-color:  #3e51c5;\n",
              "            color:  #f1f1f1;\n",
              "        }#T_1fecf12c_93ff_11eb_b994_0242ac1c0002row2_col9{\n",
              "            background-color:  #9ebeff;\n",
              "            color:  #000000;\n",
              "        }#T_1fecf12c_93ff_11eb_b994_0242ac1c0002row3_col8,#T_1fecf12c_93ff_11eb_b994_0242ac1c0002row8_col3,#T_1fecf12c_93ff_11eb_b994_0242ac1c0002row9_col6{\n",
              "            background-color:  #445acc;\n",
              "            color:  #f1f1f1;\n",
              "        }#T_1fecf12c_93ff_11eb_b994_0242ac1c0002row3_col9{\n",
              "            background-color:  #adc9fd;\n",
              "            color:  #000000;\n",
              "        }#T_1fecf12c_93ff_11eb_b994_0242ac1c0002row4_col3{\n",
              "            background-color:  #4a63d3;\n",
              "            color:  #f1f1f1;\n",
              "        }#T_1fecf12c_93ff_11eb_b994_0242ac1c0002row4_col8{\n",
              "            background-color:  #455cce;\n",
              "            color:  #f1f1f1;\n",
              "        }#T_1fecf12c_93ff_11eb_b994_0242ac1c0002row4_col9{\n",
              "            background-color:  #aac7fd;\n",
              "            color:  #000000;\n",
              "        }#T_1fecf12c_93ff_11eb_b994_0242ac1c0002row5_col6{\n",
              "            background-color:  #3d50c3;\n",
              "            color:  #f1f1f1;\n",
              "        }#T_1fecf12c_93ff_11eb_b994_0242ac1c0002row5_col7,#T_1fecf12c_93ff_11eb_b994_0242ac1c0002row5_col8,#T_1fecf12c_93ff_11eb_b994_0242ac1c0002row7_col5,#T_1fecf12c_93ff_11eb_b994_0242ac1c0002row8_col5{\n",
              "            background-color:  #5b7ae5;\n",
              "            color:  #000000;\n",
              "        }#T_1fecf12c_93ff_11eb_b994_0242ac1c0002row5_col9,#T_1fecf12c_93ff_11eb_b994_0242ac1c0002row7_col1,#T_1fecf12c_93ff_11eb_b994_0242ac1c0002row9_col0{\n",
              "            background-color:  #4257c9;\n",
              "            color:  #f1f1f1;\n",
              "        }#T_1fecf12c_93ff_11eb_b994_0242ac1c0002row6_col8{\n",
              "            background-color:  #5875e1;\n",
              "            color:  #000000;\n",
              "        }#T_1fecf12c_93ff_11eb_b994_0242ac1c0002row7_col8,#T_1fecf12c_93ff_11eb_b994_0242ac1c0002row8_col7{\n",
              "            background-color:  #b50927;\n",
              "            color:  #f1f1f1;\n",
              "        }#T_1fecf12c_93ff_11eb_b994_0242ac1c0002row7_col9,#T_1fecf12c_93ff_11eb_b994_0242ac1c0002row8_col9{\n",
              "            background-color:  #e7d7ce;\n",
              "            color:  #000000;\n",
              "        }#T_1fecf12c_93ff_11eb_b994_0242ac1c0002row9_col1{\n",
              "            background-color:  #bcd2f7;\n",
              "            color:  #000000;\n",
              "        }#T_1fecf12c_93ff_11eb_b994_0242ac1c0002row9_col2{\n",
              "            background-color:  #aec9fc;\n",
              "            color:  #000000;\n",
              "        }#T_1fecf12c_93ff_11eb_b994_0242ac1c0002row9_col3{\n",
              "            background-color:  #bbd1f8;\n",
              "            color:  #000000;\n",
              "        }#T_1fecf12c_93ff_11eb_b994_0242ac1c0002row9_col4{\n",
              "            background-color:  #b1cbfc;\n",
              "            color:  #000000;\n",
              "        }#T_1fecf12c_93ff_11eb_b994_0242ac1c0002row9_col7,#T_1fecf12c_93ff_11eb_b994_0242ac1c0002row9_col8{\n",
              "            background-color:  #edd1c2;\n",
              "            color:  #000000;\n",
              "        }</style><table id=\"T_1fecf12c_93ff_11eb_b994_0242ac1c0002\" ><thead>    <tr>        <th class=\"blank level0\" ></th>        <th class=\"col_heading level0 col0\" >index</th>        <th class=\"col_heading level0 col1\" >cont_3</th>        <th class=\"col_heading level0 col2\" >cont_4</th>        <th class=\"col_heading level0 col3\" >disc_5</th>        <th class=\"col_heading level0 col4\" >disc_6</th>        <th class=\"col_heading level0 col5\" >cat_7</th>        <th class=\"col_heading level0 col6\" >cat_8</th>        <th class=\"col_heading level0 col7\" >cont_9</th>        <th class=\"col_heading level0 col8\" >cont_10</th>        <th class=\"col_heading level0 col9\" >label</th>    </tr></thead><tbody>\n",
              "                <tr>\n",
              "                        <th id=\"T_1fecf12c_93ff_11eb_b994_0242ac1c0002level0_row0\" class=\"row_heading level0 row0\" >index</th>\n",
              "                        <td id=\"T_1fecf12c_93ff_11eb_b994_0242ac1c0002row0_col0\" class=\"data row0 col0\" >1.000000</td>\n",
              "                        <td id=\"T_1fecf12c_93ff_11eb_b994_0242ac1c0002row0_col1\" class=\"data row0 col1\" >0.035760</td>\n",
              "                        <td id=\"T_1fecf12c_93ff_11eb_b994_0242ac1c0002row0_col2\" class=\"data row0 col2\" >-0.018607</td>\n",
              "                        <td id=\"T_1fecf12c_93ff_11eb_b994_0242ac1c0002row0_col3\" class=\"data row0 col3\" >-0.020900</td>\n",
              "                        <td id=\"T_1fecf12c_93ff_11eb_b994_0242ac1c0002row0_col4\" class=\"data row0 col4\" >-0.019877</td>\n",
              "                        <td id=\"T_1fecf12c_93ff_11eb_b994_0242ac1c0002row0_col5\" class=\"data row0 col5\" >0.036923</td>\n",
              "                        <td id=\"T_1fecf12c_93ff_11eb_b994_0242ac1c0002row0_col6\" class=\"data row0 col6\" >0.011068</td>\n",
              "                        <td id=\"T_1fecf12c_93ff_11eb_b994_0242ac1c0002row0_col7\" class=\"data row0 col7\" >-0.038733</td>\n",
              "                        <td id=\"T_1fecf12c_93ff_11eb_b994_0242ac1c0002row0_col8\" class=\"data row0 col8\" >-0.035735</td>\n",
              "                        <td id=\"T_1fecf12c_93ff_11eb_b994_0242ac1c0002row0_col9\" class=\"data row0 col9\" >-0.011241</td>\n",
              "            </tr>\n",
              "            <tr>\n",
              "                        <th id=\"T_1fecf12c_93ff_11eb_b994_0242ac1c0002level0_row1\" class=\"row_heading level0 row1\" >cont_3</th>\n",
              "                        <td id=\"T_1fecf12c_93ff_11eb_b994_0242ac1c0002row1_col0\" class=\"data row1 col0\" >0.035760</td>\n",
              "                        <td id=\"T_1fecf12c_93ff_11eb_b994_0242ac1c0002row1_col1\" class=\"data row1 col1\" >1.000000</td>\n",
              "                        <td id=\"T_1fecf12c_93ff_11eb_b994_0242ac1c0002row1_col2\" class=\"data row1 col2\" >-0.031166</td>\n",
              "                        <td id=\"T_1fecf12c_93ff_11eb_b994_0242ac1c0002row1_col3\" class=\"data row1 col3\" >0.016734</td>\n",
              "                        <td id=\"T_1fecf12c_93ff_11eb_b994_0242ac1c0002row1_col4\" class=\"data row1 col4\" >-0.009480</td>\n",
              "                        <td id=\"T_1fecf12c_93ff_11eb_b994_0242ac1c0002row1_col5\" class=\"data row1 col5\" >0.031769</td>\n",
              "                        <td id=\"T_1fecf12c_93ff_11eb_b994_0242ac1c0002row1_col6\" class=\"data row1 col6\" >-0.030107</td>\n",
              "                        <td id=\"T_1fecf12c_93ff_11eb_b994_0242ac1c0002row1_col7\" class=\"data row1 col7\" >-0.003332</td>\n",
              "                        <td id=\"T_1fecf12c_93ff_11eb_b994_0242ac1c0002row1_col8\" class=\"data row1 col8\" >-0.009839</td>\n",
              "                        <td id=\"T_1fecf12c_93ff_11eb_b994_0242ac1c0002row1_col9\" class=\"data row1 col9\" >0.369472</td>\n",
              "            </tr>\n",
              "            <tr>\n",
              "                        <th id=\"T_1fecf12c_93ff_11eb_b994_0242ac1c0002level0_row2\" class=\"row_heading level0 row2\" >cont_4</th>\n",
              "                        <td id=\"T_1fecf12c_93ff_11eb_b994_0242ac1c0002row2_col0\" class=\"data row2 col0\" >-0.018607</td>\n",
              "                        <td id=\"T_1fecf12c_93ff_11eb_b994_0242ac1c0002row2_col1\" class=\"data row2 col1\" >-0.031166</td>\n",
              "                        <td id=\"T_1fecf12c_93ff_11eb_b994_0242ac1c0002row2_col2\" class=\"data row2 col2\" >1.000000</td>\n",
              "                        <td id=\"T_1fecf12c_93ff_11eb_b994_0242ac1c0002row2_col3\" class=\"data row2 col3\" >-0.075186</td>\n",
              "                        <td id=\"T_1fecf12c_93ff_11eb_b994_0242ac1c0002row2_col4\" class=\"data row2 col4\" >0.017547</td>\n",
              "                        <td id=\"T_1fecf12c_93ff_11eb_b994_0242ac1c0002row2_col5\" class=\"data row2 col5\" >0.015059</td>\n",
              "                        <td id=\"T_1fecf12c_93ff_11eb_b994_0242ac1c0002row2_col6\" class=\"data row2 col6\" >-0.014382</td>\n",
              "                        <td id=\"T_1fecf12c_93ff_11eb_b994_0242ac1c0002row2_col7\" class=\"data row2 col7\" >-0.082243</td>\n",
              "                        <td id=\"T_1fecf12c_93ff_11eb_b994_0242ac1c0002row2_col8\" class=\"data row2 col8\" >-0.082375</td>\n",
              "                        <td id=\"T_1fecf12c_93ff_11eb_b994_0242ac1c0002row2_col9\" class=\"data row2 col9\" >0.291245</td>\n",
              "            </tr>\n",
              "            <tr>\n",
              "                        <th id=\"T_1fecf12c_93ff_11eb_b994_0242ac1c0002level0_row3\" class=\"row_heading level0 row3\" >disc_5</th>\n",
              "                        <td id=\"T_1fecf12c_93ff_11eb_b994_0242ac1c0002row3_col0\" class=\"data row3 col0\" >-0.020900</td>\n",
              "                        <td id=\"T_1fecf12c_93ff_11eb_b994_0242ac1c0002row3_col1\" class=\"data row3 col1\" >0.016734</td>\n",
              "                        <td id=\"T_1fecf12c_93ff_11eb_b994_0242ac1c0002row3_col2\" class=\"data row3 col2\" >-0.075186</td>\n",
              "                        <td id=\"T_1fecf12c_93ff_11eb_b994_0242ac1c0002row3_col3\" class=\"data row3 col3\" >1.000000</td>\n",
              "                        <td id=\"T_1fecf12c_93ff_11eb_b994_0242ac1c0002row3_col4\" class=\"data row3 col4\" >-0.026560</td>\n",
              "                        <td id=\"T_1fecf12c_93ff_11eb_b994_0242ac1c0002row3_col5\" class=\"data row3 col5\" >-0.081549</td>\n",
              "                        <td id=\"T_1fecf12c_93ff_11eb_b994_0242ac1c0002row3_col6\" class=\"data row3 col6\" >-0.010163</td>\n",
              "                        <td id=\"T_1fecf12c_93ff_11eb_b994_0242ac1c0002row3_col7\" class=\"data row3 col7\" >-0.048613</td>\n",
              "                        <td id=\"T_1fecf12c_93ff_11eb_b994_0242ac1c0002row3_col8\" class=\"data row3 col8\" >-0.045934</td>\n",
              "                        <td id=\"T_1fecf12c_93ff_11eb_b994_0242ac1c0002row3_col9\" class=\"data row3 col9\" >0.333528</td>\n",
              "            </tr>\n",
              "            <tr>\n",
              "                        <th id=\"T_1fecf12c_93ff_11eb_b994_0242ac1c0002level0_row4\" class=\"row_heading level0 row4\" >disc_6</th>\n",
              "                        <td id=\"T_1fecf12c_93ff_11eb_b994_0242ac1c0002row4_col0\" class=\"data row4 col0\" >-0.019877</td>\n",
              "                        <td id=\"T_1fecf12c_93ff_11eb_b994_0242ac1c0002row4_col1\" class=\"data row4 col1\" >-0.009480</td>\n",
              "                        <td id=\"T_1fecf12c_93ff_11eb_b994_0242ac1c0002row4_col2\" class=\"data row4 col2\" >0.017547</td>\n",
              "                        <td id=\"T_1fecf12c_93ff_11eb_b994_0242ac1c0002row4_col3\" class=\"data row4 col3\" >-0.026560</td>\n",
              "                        <td id=\"T_1fecf12c_93ff_11eb_b994_0242ac1c0002row4_col4\" class=\"data row4 col4\" >1.000000</td>\n",
              "                        <td id=\"T_1fecf12c_93ff_11eb_b994_0242ac1c0002row4_col5\" class=\"data row4 col5\" >0.028990</td>\n",
              "                        <td id=\"T_1fecf12c_93ff_11eb_b994_0242ac1c0002row4_col6\" class=\"data row4 col6\" >-0.000864</td>\n",
              "                        <td id=\"T_1fecf12c_93ff_11eb_b994_0242ac1c0002row4_col7\" class=\"data row4 col7\" >-0.038769</td>\n",
              "                        <td id=\"T_1fecf12c_93ff_11eb_b994_0242ac1c0002row4_col8\" class=\"data row4 col8\" >-0.041752</td>\n",
              "                        <td id=\"T_1fecf12c_93ff_11eb_b994_0242ac1c0002row4_col9\" class=\"data row4 col9\" >0.326514</td>\n",
              "            </tr>\n",
              "            <tr>\n",
              "                        <th id=\"T_1fecf12c_93ff_11eb_b994_0242ac1c0002level0_row5\" class=\"row_heading level0 row5\" >cat_7</th>\n",
              "                        <td id=\"T_1fecf12c_93ff_11eb_b994_0242ac1c0002row5_col0\" class=\"data row5 col0\" >0.036923</td>\n",
              "                        <td id=\"T_1fecf12c_93ff_11eb_b994_0242ac1c0002row5_col1\" class=\"data row5 col1\" >0.031769</td>\n",
              "                        <td id=\"T_1fecf12c_93ff_11eb_b994_0242ac1c0002row5_col2\" class=\"data row5 col2\" >0.015059</td>\n",
              "                        <td id=\"T_1fecf12c_93ff_11eb_b994_0242ac1c0002row5_col3\" class=\"data row5 col3\" >-0.081549</td>\n",
              "                        <td id=\"T_1fecf12c_93ff_11eb_b994_0242ac1c0002row5_col4\" class=\"data row5 col4\" >0.028990</td>\n",
              "                        <td id=\"T_1fecf12c_93ff_11eb_b994_0242ac1c0002row5_col5\" class=\"data row5 col5\" >1.000000</td>\n",
              "                        <td id=\"T_1fecf12c_93ff_11eb_b994_0242ac1c0002row5_col6\" class=\"data row5 col6\" >-0.021804</td>\n",
              "                        <td id=\"T_1fecf12c_93ff_11eb_b994_0242ac1c0002row5_col7\" class=\"data row5 col7\" >0.033590</td>\n",
              "                        <td id=\"T_1fecf12c_93ff_11eb_b994_0242ac1c0002row5_col8\" class=\"data row5 col8\" >0.034104</td>\n",
              "                        <td id=\"T_1fecf12c_93ff_11eb_b994_0242ac1c0002row5_col9\" class=\"data row5 col9\" >0.014696</td>\n",
              "            </tr>\n",
              "            <tr>\n",
              "                        <th id=\"T_1fecf12c_93ff_11eb_b994_0242ac1c0002level0_row6\" class=\"row_heading level0 row6\" >cat_8</th>\n",
              "                        <td id=\"T_1fecf12c_93ff_11eb_b994_0242ac1c0002row6_col0\" class=\"data row6 col0\" >0.011068</td>\n",
              "                        <td id=\"T_1fecf12c_93ff_11eb_b994_0242ac1c0002row6_col1\" class=\"data row6 col1\" >-0.030107</td>\n",
              "                        <td id=\"T_1fecf12c_93ff_11eb_b994_0242ac1c0002row6_col2\" class=\"data row6 col2\" >-0.014382</td>\n",
              "                        <td id=\"T_1fecf12c_93ff_11eb_b994_0242ac1c0002row6_col3\" class=\"data row6 col3\" >-0.010163</td>\n",
              "                        <td id=\"T_1fecf12c_93ff_11eb_b994_0242ac1c0002row6_col4\" class=\"data row6 col4\" >-0.000864</td>\n",
              "                        <td id=\"T_1fecf12c_93ff_11eb_b994_0242ac1c0002row6_col5\" class=\"data row6 col5\" >-0.021804</td>\n",
              "                        <td id=\"T_1fecf12c_93ff_11eb_b994_0242ac1c0002row6_col6\" class=\"data row6 col6\" >1.000000</td>\n",
              "                        <td id=\"T_1fecf12c_93ff_11eb_b994_0242ac1c0002row6_col7\" class=\"data row6 col7\" >0.011926</td>\n",
              "                        <td id=\"T_1fecf12c_93ff_11eb_b994_0242ac1c0002row6_col8\" class=\"data row6 col8\" >0.020334</td>\n",
              "                        <td id=\"T_1fecf12c_93ff_11eb_b994_0242ac1c0002row6_col9\" class=\"data row6 col9\" >0.002116</td>\n",
              "            </tr>\n",
              "            <tr>\n",
              "                        <th id=\"T_1fecf12c_93ff_11eb_b994_0242ac1c0002level0_row7\" class=\"row_heading level0 row7\" >cont_9</th>\n",
              "                        <td id=\"T_1fecf12c_93ff_11eb_b994_0242ac1c0002row7_col0\" class=\"data row7 col0\" >-0.038733</td>\n",
              "                        <td id=\"T_1fecf12c_93ff_11eb_b994_0242ac1c0002row7_col1\" class=\"data row7 col1\" >-0.003332</td>\n",
              "                        <td id=\"T_1fecf12c_93ff_11eb_b994_0242ac1c0002row7_col2\" class=\"data row7 col2\" >-0.082243</td>\n",
              "                        <td id=\"T_1fecf12c_93ff_11eb_b994_0242ac1c0002row7_col3\" class=\"data row7 col3\" >-0.048613</td>\n",
              "                        <td id=\"T_1fecf12c_93ff_11eb_b994_0242ac1c0002row7_col4\" class=\"data row7 col4\" >-0.038769</td>\n",
              "                        <td id=\"T_1fecf12c_93ff_11eb_b994_0242ac1c0002row7_col5\" class=\"data row7 col5\" >0.033590</td>\n",
              "                        <td id=\"T_1fecf12c_93ff_11eb_b994_0242ac1c0002row7_col6\" class=\"data row7 col6\" >0.011926</td>\n",
              "                        <td id=\"T_1fecf12c_93ff_11eb_b994_0242ac1c0002row7_col7\" class=\"data row7 col7\" >1.000000</td>\n",
              "                        <td id=\"T_1fecf12c_93ff_11eb_b994_0242ac1c0002row7_col8\" class=\"data row7 col8\" >0.995122</td>\n",
              "                        <td id=\"T_1fecf12c_93ff_11eb_b994_0242ac1c0002row7_col9\" class=\"data row7 col9\" >0.535109</td>\n",
              "            </tr>\n",
              "            <tr>\n",
              "                        <th id=\"T_1fecf12c_93ff_11eb_b994_0242ac1c0002level0_row8\" class=\"row_heading level0 row8\" >cont_10</th>\n",
              "                        <td id=\"T_1fecf12c_93ff_11eb_b994_0242ac1c0002row8_col0\" class=\"data row8 col0\" >-0.035735</td>\n",
              "                        <td id=\"T_1fecf12c_93ff_11eb_b994_0242ac1c0002row8_col1\" class=\"data row8 col1\" >-0.009839</td>\n",
              "                        <td id=\"T_1fecf12c_93ff_11eb_b994_0242ac1c0002row8_col2\" class=\"data row8 col2\" >-0.082375</td>\n",
              "                        <td id=\"T_1fecf12c_93ff_11eb_b994_0242ac1c0002row8_col3\" class=\"data row8 col3\" >-0.045934</td>\n",
              "                        <td id=\"T_1fecf12c_93ff_11eb_b994_0242ac1c0002row8_col4\" class=\"data row8 col4\" >-0.041752</td>\n",
              "                        <td id=\"T_1fecf12c_93ff_11eb_b994_0242ac1c0002row8_col5\" class=\"data row8 col5\" >0.034104</td>\n",
              "                        <td id=\"T_1fecf12c_93ff_11eb_b994_0242ac1c0002row8_col6\" class=\"data row8 col6\" >0.020334</td>\n",
              "                        <td id=\"T_1fecf12c_93ff_11eb_b994_0242ac1c0002row8_col7\" class=\"data row8 col7\" >0.995122</td>\n",
              "                        <td id=\"T_1fecf12c_93ff_11eb_b994_0242ac1c0002row8_col8\" class=\"data row8 col8\" >1.000000</td>\n",
              "                        <td id=\"T_1fecf12c_93ff_11eb_b994_0242ac1c0002row8_col9\" class=\"data row8 col9\" >0.535274</td>\n",
              "            </tr>\n",
              "            <tr>\n",
              "                        <th id=\"T_1fecf12c_93ff_11eb_b994_0242ac1c0002level0_row9\" class=\"row_heading level0 row9\" >label</th>\n",
              "                        <td id=\"T_1fecf12c_93ff_11eb_b994_0242ac1c0002row9_col0\" class=\"data row9 col0\" >-0.011241</td>\n",
              "                        <td id=\"T_1fecf12c_93ff_11eb_b994_0242ac1c0002row9_col1\" class=\"data row9 col1\" >0.369472</td>\n",
              "                        <td id=\"T_1fecf12c_93ff_11eb_b994_0242ac1c0002row9_col2\" class=\"data row9 col2\" >0.291245</td>\n",
              "                        <td id=\"T_1fecf12c_93ff_11eb_b994_0242ac1c0002row9_col3\" class=\"data row9 col3\" >0.333528</td>\n",
              "                        <td id=\"T_1fecf12c_93ff_11eb_b994_0242ac1c0002row9_col4\" class=\"data row9 col4\" >0.326514</td>\n",
              "                        <td id=\"T_1fecf12c_93ff_11eb_b994_0242ac1c0002row9_col5\" class=\"data row9 col5\" >0.014696</td>\n",
              "                        <td id=\"T_1fecf12c_93ff_11eb_b994_0242ac1c0002row9_col6\" class=\"data row9 col6\" >0.002116</td>\n",
              "                        <td id=\"T_1fecf12c_93ff_11eb_b994_0242ac1c0002row9_col7\" class=\"data row9 col7\" >0.535109</td>\n",
              "                        <td id=\"T_1fecf12c_93ff_11eb_b994_0242ac1c0002row9_col8\" class=\"data row9 col8\" >0.535274</td>\n",
              "                        <td id=\"T_1fecf12c_93ff_11eb_b994_0242ac1c0002row9_col9\" class=\"data row9 col9\" >1.000000</td>\n",
              "            </tr>\n",
              "    </tbody></table>"
            ],
            "text/plain": [
              "<pandas.io.formats.style.Styler at 0x7f96d355ce90>"
            ]
          },
          "metadata": {
            "tags": []
          },
          "execution_count": 418
        }
      ]
    },
    {
      "cell_type": "code",
      "metadata": {
        "colab": {
          "base_uri": "https://localhost:8080/",
          "height": 204
        },
        "id": "ZnD44FFqdbd_",
        "outputId": "33b77976-cecb-4e01-95dc-9a9d4cce775a"
      },
      "source": [
        "df.drop('cont_10', inplace=True, axis=1)\n",
        "df.head()"
      ],
      "execution_count": 419,
      "outputs": [
        {
          "output_type": "execute_result",
          "data": {
            "text/html": [
              "<div>\n",
              "<style scoped>\n",
              "    .dataframe tbody tr th:only-of-type {\n",
              "        vertical-align: middle;\n",
              "    }\n",
              "\n",
              "    .dataframe tbody tr th {\n",
              "        vertical-align: top;\n",
              "    }\n",
              "\n",
              "    .dataframe thead th {\n",
              "        text-align: right;\n",
              "    }\n",
              "</style>\n",
              "<table border=\"1\" class=\"dataframe\">\n",
              "  <thead>\n",
              "    <tr style=\"text-align: right;\">\n",
              "      <th></th>\n",
              "      <th>index</th>\n",
              "      <th>key_1</th>\n",
              "      <th>date_2</th>\n",
              "      <th>cont_3</th>\n",
              "      <th>cont_4</th>\n",
              "      <th>disc_5</th>\n",
              "      <th>disc_6</th>\n",
              "      <th>cat_7</th>\n",
              "      <th>cat_8</th>\n",
              "      <th>cont_9</th>\n",
              "      <th>label</th>\n",
              "    </tr>\n",
              "  </thead>\n",
              "  <tbody>\n",
              "    <tr>\n",
              "      <th>0</th>\n",
              "      <td>0</td>\n",
              "      <td>NaN</td>\n",
              "      <td>2003-04-06</td>\n",
              "      <td>-0.90</td>\n",
              "      <td>-3.82</td>\n",
              "      <td>1</td>\n",
              "      <td>19</td>\n",
              "      <td>0</td>\n",
              "      <td>0</td>\n",
              "      <td>0.37</td>\n",
              "      <td>2.50</td>\n",
              "    </tr>\n",
              "    <tr>\n",
              "      <th>1</th>\n",
              "      <td>1</td>\n",
              "      <td>UV7055</td>\n",
              "      <td>2013-08-22</td>\n",
              "      <td>-0.35</td>\n",
              "      <td>2.23</td>\n",
              "      <td>5</td>\n",
              "      <td>13</td>\n",
              "      <td>3</td>\n",
              "      <td>1</td>\n",
              "      <td>0.05</td>\n",
              "      <td>3.19</td>\n",
              "    </tr>\n",
              "    <tr>\n",
              "      <th>2</th>\n",
              "      <td>2</td>\n",
              "      <td>oM1806</td>\n",
              "      <td>2002-10-10</td>\n",
              "      <td>0.93</td>\n",
              "      <td>-12.12</td>\n",
              "      <td>2</td>\n",
              "      <td>11</td>\n",
              "      <td>0</td>\n",
              "      <td>1</td>\n",
              "      <td>0.08</td>\n",
              "      <td>2.33</td>\n",
              "    </tr>\n",
              "    <tr>\n",
              "      <th>3</th>\n",
              "      <td>3</td>\n",
              "      <td>YJ8175</td>\n",
              "      <td>2015-01-01</td>\n",
              "      <td>1.23</td>\n",
              "      <td>-7.21</td>\n",
              "      <td>1</td>\n",
              "      <td>14</td>\n",
              "      <td>2</td>\n",
              "      <td>3</td>\n",
              "      <td>-0.69</td>\n",
              "      <td>2.54</td>\n",
              "    </tr>\n",
              "    <tr>\n",
              "      <th>4</th>\n",
              "      <td>4</td>\n",
              "      <td>VF7543</td>\n",
              "      <td>2014-03-03</td>\n",
              "      <td>-1.87</td>\n",
              "      <td>-9.02</td>\n",
              "      <td>3</td>\n",
              "      <td>9</td>\n",
              "      <td>0</td>\n",
              "      <td>0</td>\n",
              "      <td>1.01</td>\n",
              "      <td>2.10</td>\n",
              "    </tr>\n",
              "  </tbody>\n",
              "</table>\n",
              "</div>"
            ],
            "text/plain": [
              "   index   key_1     date_2  cont_3  ...  cat_7  cat_8  cont_9  label\n",
              "0      0     NaN 2003-04-06   -0.90  ...      0      0    0.37   2.50\n",
              "1      1  UV7055 2013-08-22   -0.35  ...      3      1    0.05   3.19\n",
              "2      2  oM1806 2002-10-10    0.93  ...      0      1    0.08   2.33\n",
              "3      3  YJ8175 2015-01-01    1.23  ...      2      3   -0.69   2.54\n",
              "4      4  VF7543 2014-03-03   -1.87  ...      0      0    1.01   2.10\n",
              "\n",
              "[5 rows x 11 columns]"
            ]
          },
          "metadata": {
            "tags": []
          },
          "execution_count": 419
        }
      ]
    },
    {
      "cell_type": "markdown",
      "metadata": {
        "id": "bD5Iof6pZkjV"
      },
      "source": [
        "# **Model Training and Prediction**"
      ]
    },
    {
      "cell_type": "code",
      "metadata": {
        "id": "9pG30q6jU1Us"
      },
      "source": [
        "train_ratio = 0.75\n",
        "validation_ratio = 0.15\n",
        "test_ratio = 0.10\n",
        "\n",
        "dataX = df.iloc[:,3:10]\n",
        "dataY = df.iloc[:, 10]\n",
        "\n",
        "x_train, x_test, y_train, y_test = train_test_split(dataX, dataY, test_size=1 - train_ratio, random_state=123)\n",
        "\n",
        "x_val, x_test, y_val, y_test = train_test_split(x_test, y_test, test_size=test_ratio/(test_ratio + validation_ratio), random_state=123) "
      ],
      "execution_count": 420,
      "outputs": []
    },
    {
      "cell_type": "code",
      "metadata": {
        "id": "OD_ofbfpgZOu",
        "colab": {
          "base_uri": "https://localhost:8080/"
        },
        "outputId": "90fbdc01-692a-44cf-b3e2-b68934e582f8"
      },
      "source": [
        "rf = RandomForestRegressor(n_estimators=300, random_state=12)\n",
        "rf.fit(x_train, y_train)\n",
        "\n",
        "y_pred_val = rf.predict(x_val)\n",
        "errors = abs(y_pred_val - y_val)\n",
        "mape = 100 * (errors / y_val)  # Calculating mean absolute percentage error (MAPE)\n",
        "accuracy = 100 - np.mean(mape)\n",
        "print('Accuracy of validation set:', round(accuracy, 2), '%.')"
      ],
      "execution_count": 421,
      "outputs": [
        {
          "output_type": "stream",
          "text": [
            "Accuracy of validation set: 91.67 %.\n"
          ],
          "name": "stdout"
        }
      ]
    },
    {
      "cell_type": "code",
      "metadata": {
        "colab": {
          "base_uri": "https://localhost:8080/"
        },
        "id": "O58ziIx_nmdu",
        "outputId": "ff1c9b33-cdf3-40f4-d91a-865bf308b2a9"
      },
      "source": [
        "y_pred_test = rf.predict(x_test)\n",
        "errors_t = abs(y_pred_test - y_test)\n",
        "mape_t = 100 * (errors_t/ y_test)\n",
        "accuracy = 100 - np.mean(mape_t)\n",
        "print('Accuracy of test set:', round(accuracy, 2), '%.')"
      ],
      "execution_count": 422,
      "outputs": [
        {
          "output_type": "stream",
          "text": [
            "Accuracy of test set: 92.27 %.\n"
          ],
          "name": "stdout"
        }
      ]
    },
    {
      "cell_type": "code",
      "metadata": {
        "colab": {
          "base_uri": "https://localhost:8080/"
        },
        "id": "eTas5Rldf9Lb",
        "outputId": "7f95377e-efb9-4169-a12d-bd244631f99c"
      },
      "source": [
        "#checking test set results\n",
        "df_test=df.loc[list(x_test.index),:]\n",
        "df_test['predictions']=y_pred_test.round(2)\n",
        "df_test['mape']= abs(df_test.predictions - df_test.label)/ df_test.label\n",
        "print(\"t_s acc: {} %\".format(round(((1-df_test['mape'].mean())*100),2)))\n",
        "print(df_test)"
      ],
      "execution_count": 427,
      "outputs": [
        {
          "output_type": "stream",
          "text": [
            "t_s acc: 92.26 %\n",
            "     index   key_1     date_2  cont_3  ...  cont_9  label  predictions      mape\n",
            "137    171  qT6436 2008-09-11   -1.48  ...    1.21   1.57         2.10  0.337580\n",
            "80      99  BI0505 2012-03-20   -1.30  ...    1.06   2.79         3.02  0.082437\n",
            "756    927  lX4962 2008-01-29   -0.78  ...    0.49   2.20         2.27  0.031818\n",
            "633    776  rE8139 2002-11-01    0.30  ...    2.77   4.37         4.02  0.080092\n",
            "236    280  Fc5593 2009-06-03   -0.44  ...    2.92   4.24         4.06  0.042453\n",
            "..     ...     ...        ...     ...  ...     ...    ...          ...       ...\n",
            "786    970  Da5333 2008-04-01   -0.89  ...    2.28   3.35         3.27  0.023881\n",
            "526    639  WU1978 2015-02-23    0.36  ...    0.54   2.26         2.27  0.004425\n",
            "255    307  yO8943 2002-02-18    1.52  ...    1.70   3.16         3.42  0.082278\n",
            "652    805  xB6512 2020-06-22   -1.25  ...   -2.19   2.29         2.50  0.091703\n",
            "258    310  XW1393 2013-09-22    1.34  ...   -1.43   3.69         3.62  0.018970\n",
            "\n",
            "[80 rows x 13 columns]\n"
          ],
          "name": "stdout"
        }
      ]
    },
    {
      "cell_type": "code",
      "metadata": {
        "colab": {
          "base_uri": "https://localhost:8080/",
          "height": 519
        },
        "id": "xHoxi7xXYWEe",
        "outputId": "a2528051-f568-4954-867e-3229b00933f4"
      },
      "source": [
        "sorted_idx = rf.feature_importances_.argsort()\n",
        "plt.barh(dataX.columns[sorted_idx], rf.feature_importances_[sorted_idx])\n",
        "plt.xlabel(\"Random Forest Feature Importance\")"
      ],
      "execution_count": 318,
      "outputs": [
        {
          "output_type": "execute_result",
          "data": {
            "text/plain": [
              "Text(0.5, 0, 'Random Forest Feature Importance')"
            ]
          },
          "metadata": {
            "tags": []
          },
          "execution_count": 318
        },
        {
          "output_type": "display_data",
          "data": {
            "image/png": "[encoded data removed]",
            "text/plain": [
              "<Figure size 864x576 with 1 Axes>"
            ]
          },
          "metadata": {
            "tags": []
          }
        }
      ]
    }
  ]
}